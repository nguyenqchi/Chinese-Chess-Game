{
 "cells": [
  {
   "cell_type": "code",
   "execution_count": 1,
   "metadata": {},
   "outputs": [],
   "source": [
    "#read the output file\n",
    "\n",
    "randomVSminimax_file = open(\"/Users/chloenguyen/Dropbox/Mac/Documents/Chinese Chess/Chinese-Chess-Game/outputs/results_randomVSminimax.txt\", \"r\")\n",
    "randomVSminimax = randomVSminimax_file.read()\n",
    "randomVSminimax_file.close()\n",
    "\n"
   ]
  },
  {
   "cell_type": "code",
   "execution_count": 2,
   "metadata": {},
   "outputs": [
    {
     "name": "stdout",
     "output_type": "stream",
     "text": [
      "random wins:  0\n",
      "minimax wins:  74\n",
      "draws:  26\n"
     ]
    }
   ],
   "source": [
    "#count how many times each player wins\n",
    "random_wins = randomVSminimax.count(\"random\\n\")\n",
    "minimax_wins = randomVSminimax.count(\"minimax\\n\")\n",
    "draws = randomVSminimax.count(\"draw\\n\")\n",
    "\n",
    "print(\"random wins: \", random_wins)\n",
    "print(\"minimax wins: \", minimax_wins)\n",
    "print(\"draws: \", draws)\n"
   ]
  },
  {
   "cell_type": "code",
   "execution_count": 3,
   "metadata": {},
   "outputs": [
    {
     "name": "stdout",
     "output_type": "stream",
     "text": [
      "random win rate:  0.0\n",
      "minimax win rate:  74.0\n",
      "draw rate:  26.0\n"
     ]
    }
   ],
   "source": [
    "print(\"random win rate: \", random_wins*100/(random_wins + minimax_wins + draws))\n",
    "print(\"minimax win rate: \", minimax_wins*100/(random_wins + minimax_wins + draws))\n",
    "print(\"draw rate: \", draws*100/(random_wins + minimax_wins + draws))\n"
   ]
  },
  {
   "cell_type": "code",
   "execution_count": 4,
   "metadata": {},
   "outputs": [
    {
     "name": "stdout",
     "output_type": "stream",
     "text": [
      "random wins:  1\n",
      "cmaes wins:  50\n",
      "draws:  13\n",
      "random win rate:  1.5625\n",
      "cmaes win rate:  78.125\n",
      "draw rate:  20.3125\n"
     ]
    }
   ],
   "source": [
    "randomVScmaes_file = open(\"/Users/chloenguyen/Dropbox/Mac/Documents/Chinese Chess/Chinese-Chess-Game/outputs/results_randomVScmaes.txt\", \"r\")\n",
    "randomVScmaes = randomVScmaes_file.read()\n",
    "randomVScmaes_file.close()\n",
    "#count how many times each player wins\n",
    "random_wins = randomVScmaes.count(\" random\\n\")\n",
    "cmaes_wins = randomVScmaes.count(\" cmaes\\n\")\n",
    "draws = randomVScmaes.count(\" draw\\n\")\n",
    "\n",
    "print(\"random wins: \", random_wins)\n",
    "print(\"cmaes wins: \", cmaes_wins)\n",
    "print(\"draws: \", draws)\n",
    "\n",
    "print(\"random win rate: \", random_wins*100/(random_wins + cmaes_wins + draws))\n",
    "print(\"cmaes win rate: \", cmaes_wins*100/(random_wins + cmaes_wins + draws))\n",
    "print(\"draw rate: \", draws*100/(random_wins + cmaes_wins + draws))\n"
   ]
  },
  {
   "cell_type": "code",
   "execution_count": 5,
   "metadata": {},
   "outputs": [
    {
     "name": "stdout",
     "output_type": "stream",
     "text": [
      "minimax wins:  3\n",
      "cmaes wins:  17\n",
      "draws:  80\n",
      "minimax win rate:  3.0\n",
      "cmaes win rate:  17.0\n",
      "draw rate:  80.0\n"
     ]
    }
   ],
   "source": [
    "minimaxVScmaes_file = open(\"/Users/chloenguyen/Dropbox/Mac/Documents/Chinese Chess/Chinese-Chess-Game/outputs/results_cmaseVSminimax.txt\", \"r\")\n",
    "minimaxVScmaes = minimaxVScmaes_file.read()\n",
    "minimaxVScmaes_file.close()\n",
    "#count how many times each player wins\n",
    "minimax_wins = minimaxVScmaes.count(\" minimax\\n\")\n",
    "cmaes_wins = minimaxVScmaes.count(\" cmaes\\n\")\n",
    "draws = minimaxVScmaes.count(\" draw\\n\")\n",
    "\n",
    "print(\"minimax wins: \", minimax_wins)\n",
    "print(\"cmaes wins: \", cmaes_wins)\n",
    "print(\"draws: \", draws)\n",
    "\n",
    "print(\"minimax win rate: \", minimax_wins*100/(cmaes_wins + minimax_wins + draws))\n",
    "print(\"cmaes win rate: \", cmaes_wins*100/(cmaes_wins + minimax_wins + draws))\n",
    "print(\"draw rate: \", draws*100/(cmaes_wins + minimax_wins + draws))"
   ]
  },
  {
   "cell_type": "code",
   "execution_count": null,
   "metadata": {},
   "outputs": [],
   "source": []
  }
 ],
 "metadata": {
  "kernelspec": {
   "display_name": "Python 3",
   "language": "python",
   "name": "python3"
  },
  "language_info": {
   "codemirror_mode": {
    "name": "ipython",
    "version": 3
   },
   "file_extension": ".py",
   "mimetype": "text/x-python",
   "name": "python",
   "nbconvert_exporter": "python",
   "pygments_lexer": "ipython3",
   "version": "3.10.6"
  }
 },
 "nbformat": 4,
 "nbformat_minor": 2
}
